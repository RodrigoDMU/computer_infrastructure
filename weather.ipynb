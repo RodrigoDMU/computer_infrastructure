{
 "cells": [
  {
   "cell_type": "markdown",
   "metadata": {},
   "source": [
    "# Computer Infrastructure - Assessment\n",
    "\n",
    "**Author: Rodrigo De Martino Ucedo**\n",
    "****"
   ]
  },
  {
   "cell_type": "markdown",
   "metadata": {},
   "source": [
    "This Jupyter Notebook was created as part of the Computer Infrastructure assessment for the Higher Diploma in Data Analytics course at ATU. It contains a brief report outlining how the tasks were completed. Additionally, the report provides short descriptions of the commands used in each task, along with explanations of their roles in achieving the task objectives."
   ]
  },
  {
   "cell_type": "markdown",
   "metadata": {},
   "source": [
    "### Task 1: Create Directory Structure"
   ]
  },
  {
   "cell_type": "markdown",
   "metadata": {},
   "source": [
    "- **Task description:** Using the command line, create a directory (a folder) named `data` at the root of your repository. Inside `data`, create two subdirectories: `timestamps` and `weather`.\n",
    "\n",
    "To create the main `data` directory, I used the `mkdir` command, which stands for \"make directory.\" [1] The command to create the `data` directory was:\n",
    "\n",
    "```\n",
    "$ mkdir data\n",
    "```\n",
    "\n",
    "The `ls` command was used to verify that the `data` directory had been created in repository `computer_infrastructure`.\n",
    "\n",
    "Inside the `data` directory, I needed two subdirectories: `timestamps` and `weather`. Instead of running two separate `mkdir` commands, I used the `-p` option with `mkdir` to create both subdirectories in one step, and then the subdirectories `timestamps` and `weather` are created inside it.\n",
    "\n",
    "```\n",
    "$ mkdir -p data/timestamps data/weather\n",
    "```\n",
    "\n",
    "This command creates both the `timestamps` and `weather` directories within the data directory. The `ls` command was used again to verify that the `timestamps` and `weather` subdirectory had been created in `data`."
   ]
  },
  {
   "cell_type": "markdown",
   "metadata": {},
   "source": [
    "### Task 2: Timestamps"
   ]
  },
  {
   "cell_type": "markdown",
   "metadata": {},
   "source": [
    "- **Task description:** Navigate to the `data/timestamps` directory. Use the `date` command to output the current date and time, appending the output to a file named `now.txt`. Make sure to use the `>>` operator to append (not overwrite) the file. Repeat this step ten times, then use the `more` command to verify that `now.txt` has the expected content.\n",
    "\n",
    "The first step was to change the current working directory to `data/timestamps`, where the now.txt file should be created. I used the `cd` (change directory) command:\n",
    "\n",
    "```\n",
    "$ cd data/timestamps\n",
    "```\n",
    "\n",
    "To append the current date and time to a file, I used the `date` command with custom format string to produce the output in `+\"%Y%m%d%H%M%S\"` format. [2] The `>>` operator was used to append this output to the file `now.txt`, rather than overwriting any existing content. [3]\n",
    "\n",
    "```\n",
    "$ date +\"%Y%m%d%H%M%S\" >> now.txt\n",
    "```\n",
    "\n",
    "I repeated the above `date +\"%Y%m%d%H%M%S\" >> now.txt` command 10 times, which appends the current date and time 10 times to the `now.txt` file: \n",
    "\n",
    "```\n",
    "$ date +\"%Y%m%d%H%M%S\" >> now.txt\n",
    "$ date +\"%Y%m%d%H%M%S\" >> now.txt\n",
    "$ date +\"%Y%m%d%H%M%S\" >> now.txt\n",
    "$ date +\"%Y%m%d%H%M%S\" >> now.txt\n",
    "$ date +\"%Y%m%d%H%M%S\" >> now.txt\n",
    "$ date +\"%Y%m%d%H%M%S\" >> now.txt\n",
    "$ date +\"%Y%m%d%H%M%S\" >> now.txt\n",
    "$ date +\"%Y%m%d%H%M%S\" >> now.txt\n",
    "$ date +\"%Y%m%d%H%M%S\" >> now.txt\n",
    "```\n",
    "\n",
    "After appending the date and time 10 times, I used the `more` command to verify that the content of `now.txt` was as expected.[4] The more command displays the contents of a file page by page:\n",
    "\n",
    "```\n",
    "$ more now.txt\n",
    "```\n",
    "\n",
    "This allows me to check that the file contains the 10 appended entries with the current date and time."
   ]
  },
  {
   "cell_type": "markdown",
   "metadata": {},
   "source": [
    "### Task 3: Formatting Timestamps"
   ]
  },
  {
   "cell_type": "markdown",
   "metadata": {},
   "source": [
    "- **Task description:** Run the `date` command again, but this time format the output using `YYYYmmdd_HHMMSS` (e.g., `20241126_130004` for 1:00:04 PM on November 26, 2024). Refer to the date man page (using `man date`) for more formatting options. (Press `q` to exit the man page). Append the formatted output to a file named `formatted.txt`.\n",
    "\n",
    "To format the date in the desired `YYYYmmdd_HHMMSS` format, I used the `date` command with a custom format string:\n",
    "\n",
    "- `%Y`: 4-digit year (e.g., 2024).\n",
    "- `%m`: 2-digit month (e.g., 11 for November).\n",
    "- `%d`: 2-digit day of the month (e.g., 26).\n",
    "- `%H`: 2-digit hour in 24-hour format (e.g., 13 for 1 PM).\n",
    "- `%M`: 2-digit minute (e.g., 20).\n",
    "- `%S`: 2-digit second (e.g., 04).\n",
    "\n",
    "This produces the current date and time in the format `YYYYmmdd_HHMMSS`. For example, it might output something like 20241026_132004 for 1:00:04 PM on November 26, 2024.\n",
    "\n",
    "To store the formatted output in a file named `formatted.txt`, I used the append operator `>>`. This ensures that each new timestamp is added to the end of the file without overwriting the existing content.\n",
    "\n",
    "```\n",
    "$ date \"+%Y%m%d_%H%M%S\" >> formatted.txt\n",
    "```\n",
    "\n",
    "This command appends the formatted timestamp to the formatted.txt file. After running the command, I used the `more` command to verify that the formatted timestamp had been correctly appended to the `formatted.txt` file.\n",
    "\n",
    "```\n",
    "$ more formatted.txt\n",
    "```\n",
    "\n",
    "This command displays the contents of `formatted.txt`, allowing me to check that the file contains the expected formatted timestamps."
   ]
  },
  {
   "cell_type": "markdown",
   "metadata": {},
   "source": [
    "### Task 4: Create Timestamped Files"
   ]
  },
  {
   "cell_type": "markdown",
   "metadata": {},
   "source": [
    "- **Task description:** Use the `touch` command to create an empty file with a name in the `YYYYmmdd_HHMMSS.txt` format. You can achieve this by embedding your date command in backticks `` ` `` into the touch command. You should no longer use redirection (`>>`) in this step.\n",
    "\n",
    "The `touch` command is used to create empty files. [5] I used backticks (`` ` ``) to embed the `date` command within the `touch` command to create a file with a name that includes the current timestamp.\n",
    "\n",
    "```\n",
    "$ touch `date \"+%Y%m%d_%H%M%S\".txt`\n",
    "```\n",
    "After executing the `touch` command, I used the `ls` command to verify that the file was created with the correct timestamped name. [6] This command lists the files in the current directory, allowing me to confirm that a file with the timestamped name was successfully created."
   ]
  },
  {
   "cell_type": "markdown",
   "metadata": {},
   "source": [
    "### Task 5: Download Today's Weather Data"
   ]
  },
  {
   "cell_type": "markdown",
   "metadata": {},
   "source": [
    "- **Task description:** Change to the `data/weather` directory. Download the latest weather data for the Athenry weather station from Met Eireann using `wget`. Use the `-O <filename>` option to save the file as `weather.json`. The data can be found at this URL: `https://prodapi.metweb.ie/observations/athenry/today`. [7]\n",
    "\n",
    "The first step was to ensure I was in the correct directory where the weather data file should be saved. I used the `cd` command to navigate to the `data/weather` directory:\n",
    "\n",
    "```\n",
    "$ cd data/weather\n",
    "```\n",
    "This command changes the current directory to `data/weather`, ensuring that the downloaded weather data is saved in the correct location.\n",
    "\n",
    "To download the weather data for the Athenry weather station from Met Eireann, I used the `wget` command. [8] The `wget` utility is a command-line tool for downloading files from the web. I used the `-O` option to specify the output filename as weather.json. The `-O` option allows me to save the file with a custom name, instead of using the default name. [9]\n",
    "\n",
    "```\n",
    "$ wget -O weather.json https://prodapi.metweb.ie/observations/athenry/today\n",
    "```\n",
    "\n",
    "After running the `wget` command, I used the `ls` command to check that the file `weather.json` was correctly downloaded and saved in the `data/weather` directory. This command lists the contents of the current directory, allowing me to confirm that the `weather.json` file exists.\n"
   ]
  },
  {
   "cell_type": "markdown",
   "metadata": {},
   "source": [
    "### Task 6: Timestamp the Data"
   ]
  },
  {
   "cell_type": "markdown",
   "metadata": {},
   "source": [
    "- **Task description:** Modify the command from Task 5 to save the downloaded file with a timestamped name in the format `YYYYmmdd_HHMMSS.json`.\n",
    "\n",
    "To generate a timestamp for the filename, I used the `date` command with a custom format string. The goal was to format the current date and time in the `YYYYmmdd_HHMMSS` format, which will be used as part of the filename. The next step was to modify the `wget` command from Task 5 so that it saves the downloaded weather data with the timestamped filename:\n",
    "\n",
    "```\n",
    "$ wget -O `date \"+%Y%m%d_%H%M%S\".json\"` https://prodapi.metweb.ie/observations/athenry/today\n",
    "```\n",
    "After running the modified `wget` command, I used the `ls` command to verify that the file was saved with the correct timestamped name in the `data/weather` directory."
   ]
  },
  {
   "cell_type": "markdown",
   "metadata": {},
   "source": [
    "### Task 7: Write the Script"
   ]
  },
  {
   "cell_type": "markdown",
   "metadata": {},
   "source": [
    "- **Task description:** Write a bash script called `weather.sh` in the root of your repository. This script should automate the process from Task 6, saving the weather data to the `data/weather` directory. Make the script executable and test it by running it.\n",
    "\n",
    "I used the `touch` command to create a new bash script file named `weather.sh` in the root directory of the repository. [10]\n",
    "\n",
    "```\n",
    "$ touch weather.sh\n",
    "```\n",
    "\n",
    "Inside the script, I included the following steps:\n",
    "- Navigate to the data/weather directory.\n",
    "- Use the `wget` command to download the weather data and save it with a timestamped filename.\n",
    "- The script ensures that the weather data is saved as a JSON file with a filename in the `YYYYmmdd_HHMMSS.json` format.\n",
    "\n",
    "```\n",
    "#! /bin/bash\n",
    "\n",
    "wget -O data/weather/`date +\"%Y%m%d_%H%M%S.json\"` https://prodapi.metweb.ie/observations/athenry/today\n",
    "```\n",
    "\n",
    "After writing the script, I saved and closed the file. In order for the script to be executable, I needed to change its permissions using the `chmod` command: [11]\n",
    "\n",
    "```\n",
    "chmod +x weather.sh\n",
    "```\n",
    "\n",
    "This command adds execute permissions to `weather.sh`, allowing it to be run as a script. After making the script executable, I ran the script to ensure it works correctly:\n",
    "\n",
    "```\n",
    "$ ./weather.sh\n",
    "```\n",
    "\n",
    "The script should automatically navigate to the data/weather directory, download the weather data, and save it with a timestamped filename in the format YYYYmmdd_HHMMSS.json. I used the `ls` command to verify that the file was saved with the correct timestamped name in the `data/weather` directory.\n"
   ]
  },
  {
   "cell_type": "markdown",
   "metadata": {},
   "source": [
    "### Task 8: Notebook"
   ]
  },
  {
   "cell_type": "markdown",
   "metadata": {},
   "source": [
    "- **Task description:** Create a notebook called `weather.ipynb` at the root of your repository. In this notebook, write a brief report explaining how you completed Tasks 1 to 7. Provide short descriptions of the commands used in each task and explain their role in completing the tasks.\n",
    "\n",
    "I used the `touch` command to create the `weather.ipynb` notebook file at the root of the repository. The command I ran was:\n",
    "\n",
    "```\n",
    "$ touch weather.ipynb\n",
    "```\n",
    "This command created the weather.ipynb file without any content. To ensure that the file was created successfully, I listed the files in the current directory using the ls command."
   ]
  },
  {
   "cell_type": "markdown",
   "metadata": {},
   "source": [
    "***\n",
    "## Task 9: Weather Analysis\n",
    "***"
   ]
  },
  {
   "cell_type": "markdown",
   "metadata": {},
   "source": [
    "**Task description:** In your `weather.ipynb` notebook, use the `pandas` function `read_json()` to load in any one of the weather data files you have downloaded with your script. Examine and summarize the data. Use the information provided [data.gov.ie](https://data.gov.ie/dataset/todays-weather-athenry) to write a short explanation of what the data set contains. [12]"
   ]
  },
  {
   "cell_type": "markdown",
   "metadata": {},
   "source": [
    "First, I imported the necessary libraries to work with the weather data."
   ]
  },
  {
   "cell_type": "code",
   "execution_count": 1,
   "metadata": {},
   "outputs": [],
   "source": [
    "# Data frame.\n",
    "import pandas as pd"
   ]
  },
  {
   "cell_type": "markdown",
   "metadata": {},
   "source": [
    "#### Load data"
   ]
  },
  {
   "cell_type": "markdown",
   "metadata": {},
   "source": [
    "I used the `pd.read_json()` function to load the weather data from a local JSON file. [13] This function reads the JSON file and converts it into a pandas DataFrame, which allows for easy manipulation and analysis of the data."
   ]
  },
  {
   "cell_type": "code",
   "execution_count": null,
   "metadata": {},
   "outputs": [],
   "source": [
    "# Read the data.\n",
    "df = pd.read_json('data/weather/20241114_172802.json')"
   ]
  },
  {
   "cell_type": "markdown",
   "metadata": {},
   "source": [
    "#### Inspect Data"
   ]
  },
  {
   "cell_type": "markdown",
   "metadata": {},
   "source": [
    "Once the data was loaded, I performed a quick inspection to understand its structure and contents. I used the following methods to summarize the data:\n",
    "\n",
    "- `df.head()` to display the first few rows of the dataset.\n",
    "\n",
    "- `df.tail()` to display the last few rows of the dataset.\n",
    "\n",
    "- `df.info()` to get an overview of the column names, data types, and non-null values.\n",
    "\n",
    "- `df.isnull().sum()` to display the count of missing values for each column in the dataset.\n",
    "\n",
    "- `df.describe()` to get basic statistical summaries of numerical columns."
   ]
  },
  {
   "cell_type": "code",
   "execution_count": 3,
   "metadata": {},
   "outputs": [
    {
     "data": {
      "text/html": [
       "<div>\n",
       "<style scoped>\n",
       "    .dataframe tbody tr th:only-of-type {\n",
       "        vertical-align: middle;\n",
       "    }\n",
       "\n",
       "    .dataframe tbody tr th {\n",
       "        vertical-align: top;\n",
       "    }\n",
       "\n",
       "    .dataframe thead th {\n",
       "        text-align: right;\n",
       "    }\n",
       "</style>\n",
       "<table border=\"1\" class=\"dataframe\">\n",
       "  <thead>\n",
       "    <tr style=\"text-align: right;\">\n",
       "      <th></th>\n",
       "      <th>name</th>\n",
       "      <th>temperature</th>\n",
       "      <th>symbol</th>\n",
       "      <th>weatherDescription</th>\n",
       "      <th>text</th>\n",
       "      <th>windSpeed</th>\n",
       "      <th>windGust</th>\n",
       "      <th>cardinalWindDirection</th>\n",
       "      <th>windDirection</th>\n",
       "      <th>humidity</th>\n",
       "      <th>rainfall</th>\n",
       "      <th>pressure</th>\n",
       "      <th>dayName</th>\n",
       "      <th>date</th>\n",
       "      <th>reportTime</th>\n",
       "    </tr>\n",
       "  </thead>\n",
       "  <tbody>\n",
       "    <tr>\n",
       "      <th>0</th>\n",
       "      <td>Athenry</td>\n",
       "      <td>9.0</td>\n",
       "      <td>15n</td>\n",
       "      <td>Fog / Mist</td>\n",
       "      <td>\"Fog thickening\"</td>\n",
       "      <td>2</td>\n",
       "      <td>-</td>\n",
       "      <td>SW</td>\n",
       "      <td>225</td>\n",
       "      <td>100</td>\n",
       "      <td>0.10</td>\n",
       "      <td>1038.0</td>\n",
       "      <td>Thursday</td>\n",
       "      <td>2024-11-14</td>\n",
       "      <td>00:00</td>\n",
       "    </tr>\n",
       "    <tr>\n",
       "      <th>1</th>\n",
       "      <td>Athenry</td>\n",
       "      <td>9.0</td>\n",
       "      <td>15n</td>\n",
       "      <td>Fog / Mist</td>\n",
       "      <td>\"Fog thickening\"</td>\n",
       "      <td>2</td>\n",
       "      <td>-</td>\n",
       "      <td>W</td>\n",
       "      <td>270</td>\n",
       "      <td>100</td>\n",
       "      <td>0.00</td>\n",
       "      <td>1038.0</td>\n",
       "      <td>Thursday</td>\n",
       "      <td>2024-11-14</td>\n",
       "      <td>01:00</td>\n",
       "    </tr>\n",
       "    <tr>\n",
       "      <th>2</th>\n",
       "      <td>Athenry</td>\n",
       "      <td>10.0</td>\n",
       "      <td>15n</td>\n",
       "      <td>Fog / Mist</td>\n",
       "      <td>\"Fog thinning\"</td>\n",
       "      <td>-</td>\n",
       "      <td>-</td>\n",
       "      <td></td>\n",
       "      <td>0</td>\n",
       "      <td>99</td>\n",
       "      <td>0.00</td>\n",
       "      <td>1037.0</td>\n",
       "      <td>Thursday</td>\n",
       "      <td>2024-11-14</td>\n",
       "      <td>02:00</td>\n",
       "    </tr>\n",
       "    <tr>\n",
       "      <th>3</th>\n",
       "      <td>Athenry</td>\n",
       "      <td>10.0</td>\n",
       "      <td>09n</td>\n",
       "      <td>Rain</td>\n",
       "      <td>\"Moderate rain \"</td>\n",
       "      <td>4</td>\n",
       "      <td>-</td>\n",
       "      <td>N</td>\n",
       "      <td>0</td>\n",
       "      <td>100</td>\n",
       "      <td>0.01</td>\n",
       "      <td>1037.0</td>\n",
       "      <td>Thursday</td>\n",
       "      <td>2024-11-14</td>\n",
       "      <td>03:00</td>\n",
       "    </tr>\n",
       "    <tr>\n",
       "      <th>4</th>\n",
       "      <td>Athenry</td>\n",
       "      <td>10.0</td>\n",
       "      <td>09n</td>\n",
       "      <td>Rain</td>\n",
       "      <td>\"Moderate rain \"</td>\n",
       "      <td>4</td>\n",
       "      <td>-</td>\n",
       "      <td>N</td>\n",
       "      <td>0</td>\n",
       "      <td>99</td>\n",
       "      <td>0.01</td>\n",
       "      <td>1037.0</td>\n",
       "      <td>Thursday</td>\n",
       "      <td>2024-11-14</td>\n",
       "      <td>04:00</td>\n",
       "    </tr>\n",
       "  </tbody>\n",
       "</table>\n",
       "</div>"
      ],
      "text/plain": [
       "      name  temperature symbol weatherDescription              text windSpeed  \\\n",
       "0  Athenry          9.0    15n         Fog / Mist  \"Fog thickening\"         2   \n",
       "1  Athenry          9.0    15n         Fog / Mist  \"Fog thickening\"         2   \n",
       "2  Athenry         10.0    15n         Fog / Mist    \"Fog thinning\"         -   \n",
       "3  Athenry         10.0    09n               Rain  \"Moderate rain \"         4   \n",
       "4  Athenry         10.0    09n               Rain  \"Moderate rain \"         4   \n",
       "\n",
       "  windGust cardinalWindDirection  windDirection  humidity  rainfall  pressure  \\\n",
       "0        -                    SW            225       100      0.10    1038.0   \n",
       "1        -                     W            270       100      0.00    1038.0   \n",
       "2        -                                    0        99      0.00    1037.0   \n",
       "3        -                     N              0       100      0.01    1037.0   \n",
       "4        -                     N              0        99      0.01    1037.0   \n",
       "\n",
       "    dayName       date reportTime  \n",
       "0  Thursday 2024-11-14      00:00  \n",
       "1  Thursday 2024-11-14      01:00  \n",
       "2  Thursday 2024-11-14      02:00  \n",
       "3  Thursday 2024-11-14      03:00  \n",
       "4  Thursday 2024-11-14      04:00  "
      ]
     },
     "execution_count": 3,
     "metadata": {},
     "output_type": "execute_result"
    }
   ],
   "source": [
    "# The first 5 rows of the dataset.\n",
    "df.head()"
   ]
  },
  {
   "cell_type": "code",
   "execution_count": 4,
   "metadata": {},
   "outputs": [
    {
     "data": {
      "text/html": [
       "<div>\n",
       "<style scoped>\n",
       "    .dataframe tbody tr th:only-of-type {\n",
       "        vertical-align: middle;\n",
       "    }\n",
       "\n",
       "    .dataframe tbody tr th {\n",
       "        vertical-align: top;\n",
       "    }\n",
       "\n",
       "    .dataframe thead th {\n",
       "        text-align: right;\n",
       "    }\n",
       "</style>\n",
       "<table border=\"1\" class=\"dataframe\">\n",
       "  <thead>\n",
       "    <tr style=\"text-align: right;\">\n",
       "      <th></th>\n",
       "      <th>name</th>\n",
       "      <th>temperature</th>\n",
       "      <th>symbol</th>\n",
       "      <th>weatherDescription</th>\n",
       "      <th>text</th>\n",
       "      <th>windSpeed</th>\n",
       "      <th>windGust</th>\n",
       "      <th>cardinalWindDirection</th>\n",
       "      <th>windDirection</th>\n",
       "      <th>humidity</th>\n",
       "      <th>rainfall</th>\n",
       "      <th>pressure</th>\n",
       "      <th>dayName</th>\n",
       "      <th>date</th>\n",
       "      <th>reportTime</th>\n",
       "    </tr>\n",
       "  </thead>\n",
       "  <tbody>\n",
       "    <tr>\n",
       "      <th>13</th>\n",
       "      <td>Athenry</td>\n",
       "      <td>NaN</td>\n",
       "      <td></td>\n",
       "      <td>N/A</td>\n",
       "      <td></td>\n",
       "      <td>NA</td>\n",
       "      <td>-</td>\n",
       "      <td>-99</td>\n",
       "      <td>0</td>\n",
       "      <td>-99</td>\n",
       "      <td>NaN</td>\n",
       "      <td>NaN</td>\n",
       "      <td>Thursday</td>\n",
       "      <td>2024-11-14</td>\n",
       "      <td>13:00</td>\n",
       "    </tr>\n",
       "    <tr>\n",
       "      <th>14</th>\n",
       "      <td>Athenry</td>\n",
       "      <td>NaN</td>\n",
       "      <td></td>\n",
       "      <td>N/A</td>\n",
       "      <td></td>\n",
       "      <td>NA</td>\n",
       "      <td>-</td>\n",
       "      <td>-99</td>\n",
       "      <td>0</td>\n",
       "      <td>-99</td>\n",
       "      <td>NaN</td>\n",
       "      <td>NaN</td>\n",
       "      <td>Thursday</td>\n",
       "      <td>2024-11-14</td>\n",
       "      <td>14:00</td>\n",
       "    </tr>\n",
       "    <tr>\n",
       "      <th>15</th>\n",
       "      <td>Athenry</td>\n",
       "      <td>NaN</td>\n",
       "      <td></td>\n",
       "      <td>N/A</td>\n",
       "      <td></td>\n",
       "      <td>NA</td>\n",
       "      <td>-</td>\n",
       "      <td>-99</td>\n",
       "      <td>0</td>\n",
       "      <td>-99</td>\n",
       "      <td>NaN</td>\n",
       "      <td>NaN</td>\n",
       "      <td>Thursday</td>\n",
       "      <td>2024-11-14</td>\n",
       "      <td>15:00</td>\n",
       "    </tr>\n",
       "    <tr>\n",
       "      <th>16</th>\n",
       "      <td>Athenry</td>\n",
       "      <td>NaN</td>\n",
       "      <td></td>\n",
       "      <td>N/A</td>\n",
       "      <td></td>\n",
       "      <td>NA</td>\n",
       "      <td>-</td>\n",
       "      <td>-99</td>\n",
       "      <td>0</td>\n",
       "      <td>-99</td>\n",
       "      <td>NaN</td>\n",
       "      <td>NaN</td>\n",
       "      <td>Thursday</td>\n",
       "      <td>2024-11-14</td>\n",
       "      <td>16:00</td>\n",
       "    </tr>\n",
       "    <tr>\n",
       "      <th>17</th>\n",
       "      <td>Athenry</td>\n",
       "      <td>NaN</td>\n",
       "      <td></td>\n",
       "      <td>N/A</td>\n",
       "      <td></td>\n",
       "      <td>NA</td>\n",
       "      <td>-</td>\n",
       "      <td>-99</td>\n",
       "      <td>0</td>\n",
       "      <td>-99</td>\n",
       "      <td>NaN</td>\n",
       "      <td>NaN</td>\n",
       "      <td>Thursday</td>\n",
       "      <td>2024-11-14</td>\n",
       "      <td>17:00</td>\n",
       "    </tr>\n",
       "  </tbody>\n",
       "</table>\n",
       "</div>"
      ],
      "text/plain": [
       "       name  temperature symbol weatherDescription text windSpeed windGust  \\\n",
       "13  Athenry          NaN                       N/A             NA        -   \n",
       "14  Athenry          NaN                       N/A             NA        -   \n",
       "15  Athenry          NaN                       N/A             NA        -   \n",
       "16  Athenry          NaN                       N/A             NA        -   \n",
       "17  Athenry          NaN                       N/A             NA        -   \n",
       "\n",
       "   cardinalWindDirection  windDirection  humidity  rainfall  pressure  \\\n",
       "13                   -99              0       -99       NaN       NaN   \n",
       "14                   -99              0       -99       NaN       NaN   \n",
       "15                   -99              0       -99       NaN       NaN   \n",
       "16                   -99              0       -99       NaN       NaN   \n",
       "17                   -99              0       -99       NaN       NaN   \n",
       "\n",
       "     dayName       date reportTime  \n",
       "13  Thursday 2024-11-14      13:00  \n",
       "14  Thursday 2024-11-14      14:00  \n",
       "15  Thursday 2024-11-14      15:00  \n",
       "16  Thursday 2024-11-14      16:00  \n",
       "17  Thursday 2024-11-14      17:00  "
      ]
     },
     "execution_count": 4,
     "metadata": {},
     "output_type": "execute_result"
    }
   ],
   "source": [
    "# The last 5 rows of the dataset.\n",
    "df.tail()"
   ]
  },
  {
   "cell_type": "markdown",
   "metadata": {},
   "source": [
    "The dataset includes several weather variables: temperature, wind direction, humidity, rainfall, pressure, and date."
   ]
  },
  {
   "cell_type": "code",
   "execution_count": 5,
   "metadata": {},
   "outputs": [
    {
     "name": "stdout",
     "output_type": "stream",
     "text": [
      "<class 'pandas.core.frame.DataFrame'>\n",
      "RangeIndex: 18 entries, 0 to 17\n",
      "Data columns (total 15 columns):\n",
      " #   Column                 Non-Null Count  Dtype         \n",
      "---  ------                 --------------  -----         \n",
      " 0   name                   18 non-null     object        \n",
      " 1   temperature            11 non-null     float64       \n",
      " 2   symbol                 18 non-null     object        \n",
      " 3   weatherDescription     18 non-null     object        \n",
      " 4   text                   18 non-null     object        \n",
      " 5   windSpeed              18 non-null     object        \n",
      " 6   windGust               18 non-null     object        \n",
      " 7   cardinalWindDirection  18 non-null     object        \n",
      " 8   windDirection          18 non-null     int64         \n",
      " 9   humidity               18 non-null     int64         \n",
      " 10  rainfall               10 non-null     float64       \n",
      " 11  pressure               11 non-null     float64       \n",
      " 12  dayName                18 non-null     object        \n",
      " 13  date                   18 non-null     datetime64[ns]\n",
      " 14  reportTime             18 non-null     object        \n",
      "dtypes: datetime64[ns](1), float64(3), int64(2), object(9)\n",
      "memory usage: 2.2+ KB\n"
     ]
    }
   ],
   "source": [
    "# Informations of the dataset.\n",
    "df.info()"
   ]
  },
  {
   "cell_type": "markdown",
   "metadata": {},
   "source": [
    "The dataset consists of 18 rows and 15 columns, with each row representing a weather observation for a specific day. The columns represent different weather parameters and data about each observation."
   ]
  },
  {
   "cell_type": "code",
   "execution_count": 6,
   "metadata": {},
   "outputs": [
    {
     "data": {
      "text/plain": [
       "name                     0\n",
       "temperature              7\n",
       "symbol                   0\n",
       "weatherDescription       0\n",
       "text                     0\n",
       "windSpeed                0\n",
       "windGust                 0\n",
       "cardinalWindDirection    0\n",
       "windDirection            0\n",
       "humidity                 0\n",
       "rainfall                 8\n",
       "pressure                 7\n",
       "dayName                  0\n",
       "date                     0\n",
       "reportTime               0\n",
       "dtype: int64"
      ]
     },
     "execution_count": 6,
     "metadata": {},
     "output_type": "execute_result"
    }
   ],
   "source": [
    "# Count the number of null.\n",
    "df.isnull().sum()"
   ]
  },
  {
   "cell_type": "markdown",
   "metadata": {},
   "source": [
    "From the output, the following columns have missing values:\n",
    "\n",
    "- Temperature: 7 missing entries.\n",
    "\n",
    "- Rainfall: 8 missing entries.\n",
    "\n",
    "- Pressure: 7 missing entries.\n",
    "\n",
    "Other columns such as name, symbol, weatherDescription, windSpeed, windDirection, and humidity have no missing values, indicating that these measurements are consistently recorded."
   ]
  },
  {
   "cell_type": "code",
   "execution_count": 7,
   "metadata": {},
   "outputs": [
    {
     "data": {
      "text/html": [
       "<div>\n",
       "<style scoped>\n",
       "    .dataframe tbody tr th:only-of-type {\n",
       "        vertical-align: middle;\n",
       "    }\n",
       "\n",
       "    .dataframe tbody tr th {\n",
       "        vertical-align: top;\n",
       "    }\n",
       "\n",
       "    .dataframe thead th {\n",
       "        text-align: right;\n",
       "    }\n",
       "</style>\n",
       "<table border=\"1\" class=\"dataframe\">\n",
       "  <thead>\n",
       "    <tr style=\"text-align: right;\">\n",
       "      <th></th>\n",
       "      <th>temperature</th>\n",
       "      <th>windDirection</th>\n",
       "      <th>humidity</th>\n",
       "      <th>rainfall</th>\n",
       "      <th>pressure</th>\n",
       "      <th>date</th>\n",
       "    </tr>\n",
       "  </thead>\n",
       "  <tbody>\n",
       "    <tr>\n",
       "      <th>count</th>\n",
       "      <td>11.000000</td>\n",
       "      <td>18.0000</td>\n",
       "      <td>18.000000</td>\n",
       "      <td>10.00000</td>\n",
       "      <td>11.000000</td>\n",
       "      <td>18</td>\n",
       "    </tr>\n",
       "    <tr>\n",
       "      <th>mean</th>\n",
       "      <td>10.545455</td>\n",
       "      <td>45.0000</td>\n",
       "      <td>11.333333</td>\n",
       "      <td>0.01300</td>\n",
       "      <td>1036.818182</td>\n",
       "      <td>2024-11-14 00:00:00</td>\n",
       "    </tr>\n",
       "    <tr>\n",
       "      <th>min</th>\n",
       "      <td>9.000000</td>\n",
       "      <td>0.0000</td>\n",
       "      <td>-99.000000</td>\n",
       "      <td>0.00000</td>\n",
       "      <td>1036.000000</td>\n",
       "      <td>2024-11-14 00:00:00</td>\n",
       "    </tr>\n",
       "    <tr>\n",
       "      <th>25%</th>\n",
       "      <td>10.000000</td>\n",
       "      <td>0.0000</td>\n",
       "      <td>-99.000000</td>\n",
       "      <td>0.00000</td>\n",
       "      <td>1036.000000</td>\n",
       "      <td>2024-11-14 00:00:00</td>\n",
       "    </tr>\n",
       "    <tr>\n",
       "      <th>50%</th>\n",
       "      <td>11.000000</td>\n",
       "      <td>0.0000</td>\n",
       "      <td>99.000000</td>\n",
       "      <td>0.00000</td>\n",
       "      <td>1037.000000</td>\n",
       "      <td>2024-11-14 00:00:00</td>\n",
       "    </tr>\n",
       "    <tr>\n",
       "      <th>75%</th>\n",
       "      <td>11.000000</td>\n",
       "      <td>0.0000</td>\n",
       "      <td>100.000000</td>\n",
       "      <td>0.01000</td>\n",
       "      <td>1037.000000</td>\n",
       "      <td>2024-11-14 00:00:00</td>\n",
       "    </tr>\n",
       "    <tr>\n",
       "      <th>max</th>\n",
       "      <td>12.000000</td>\n",
       "      <td>315.0000</td>\n",
       "      <td>100.000000</td>\n",
       "      <td>0.10000</td>\n",
       "      <td>1038.000000</td>\n",
       "      <td>2024-11-14 00:00:00</td>\n",
       "    </tr>\n",
       "    <tr>\n",
       "      <th>std</th>\n",
       "      <td>1.035725</td>\n",
       "      <td>104.6844</td>\n",
       "      <td>101.546860</td>\n",
       "      <td>0.03093</td>\n",
       "      <td>0.750757</td>\n",
       "      <td>NaN</td>\n",
       "    </tr>\n",
       "  </tbody>\n",
       "</table>\n",
       "</div>"
      ],
      "text/plain": [
       "       temperature  windDirection    humidity  rainfall     pressure  \\\n",
       "count    11.000000        18.0000   18.000000  10.00000    11.000000   \n",
       "mean     10.545455        45.0000   11.333333   0.01300  1036.818182   \n",
       "min       9.000000         0.0000  -99.000000   0.00000  1036.000000   \n",
       "25%      10.000000         0.0000  -99.000000   0.00000  1036.000000   \n",
       "50%      11.000000         0.0000   99.000000   0.00000  1037.000000   \n",
       "75%      11.000000         0.0000  100.000000   0.01000  1037.000000   \n",
       "max      12.000000       315.0000  100.000000   0.10000  1038.000000   \n",
       "std       1.035725       104.6844  101.546860   0.03093     0.750757   \n",
       "\n",
       "                      date  \n",
       "count                   18  \n",
       "mean   2024-11-14 00:00:00  \n",
       "min    2024-11-14 00:00:00  \n",
       "25%    2024-11-14 00:00:00  \n",
       "50%    2024-11-14 00:00:00  \n",
       "75%    2024-11-14 00:00:00  \n",
       "max    2024-11-14 00:00:00  \n",
       "std                    NaN  "
      ]
     },
     "execution_count": 7,
     "metadata": {},
     "output_type": "execute_result"
    }
   ],
   "source": [
    "# Descibe the data set.\n",
    "df.describe()"
   ]
  },
  {
   "cell_type": "markdown",
   "metadata": {},
   "source": [
    "Based on the summary statistics:\n",
    "\n",
    "- The temperature values range from 9°C to 12°C, with an average of 10.55°C.\n",
    "\n",
    "- Humidity values are quite diverse, with some missing data (indicated by -99).\n",
    "\n",
    "- Wind direction varies greatly, with some values likely representing missing or anomalous data.\n",
    "\n",
    "- Rainfall is very low on average, with a maximum value of 0.1 mm, indicating relatively dry conditions for the period.\n",
    "\n",
    "- Pressure values are consistent, ranging from 1036 to 1038 hPa, with a mean of 1036.82 hPa."
   ]
  },
  {
   "cell_type": "markdown",
   "metadata": {},
   "source": [
    "**Conclusion:** Based on the metadata available on data.gov.ie, I could confirm that the dataset contains daily weather observations, including measurements like temperature, rainfall, and wind speed. This data is typically used for monitoring weather patterns, climate analysis, and forecasting. After loading the weather data and summarizing it, I was able to confirm that it provides daily weather observations that can be used for various analytical tasks. The dataset contains numerical and date-based columns that facilitate time-series analysis, trend detection, and comparisons of weather patterns across different dates."
   ]
  },
  {
   "cell_type": "markdown",
   "metadata": {},
   "source": [
    "******\n",
    "### References\n",
    "*****"
   ]
  },
  {
   "cell_type": "markdown",
   "metadata": {},
   "source": [
    "[1] Create a directory: https://www.w3schools.com/python/ref_os_mkdir.asp\n",
    "\n",
    "[2] Write current date and time to a file: https://stackoverflow.com/questions/54902053/how-to-get-the-current-date-and-time-in-specific-format-in-shell\n",
    "\n",
    "[3] Apppend the output to a file: https://stackoverflow.com/questions/5342832/how-to-append-the-output-to-a-file\n",
    "\n",
    "[4] View text files in the command line interface: https://www.geeksforgeeks.org/more-command-in-linux-with-examples/\n",
    "\n",
    "[5] Create a file on specified directory: https://www.geeksforgeeks.org/touch-module-in-python/\n",
    "\n",
    "[6] Display the list of files and directories: https://www.freecodecamp.org/news/python-list-files-in-a-directory-guide-listdir-vs-system-ls-explained-with-examples/\n",
    "\n",
    "[7] Weather data for the Athenry weather station: https://prodapi.metweb.ie/observations/athenry/today\n",
    "\n",
    "[8] Download a file from a server: https://www.scrapingbee.com/blog/python-wget/\n",
    "\n",
    "[9] -O to save the file with a custom name: https://stackoverflow.com/questions/9830242/what-does-wget-o-mean\n",
    "\n",
    "[10] Create a bash script: https://python.land/the-unix-shell/creating-bash-scripts\n",
    "\n",
    "[11] Change the permissions of files and directories: https://www.warp.dev/terminus/chmod-x\n",
    "\n",
    "[12] Today's weather Athenry, data.gov.ie: https://data.gov.ie/dataset/todays-weather-athenry\n",
    "\n",
    "[13] Read JSON - Pandas: https://www.w3schools.com/python/pandas/pandas_json.asp"
   ]
  },
  {
   "cell_type": "markdown",
   "metadata": {},
   "source": [
    "******\n",
    "# End"
   ]
  }
 ],
 "metadata": {
  "kernelspec": {
   "display_name": "Python 3",
   "language": "python",
   "name": "python3"
  },
  "language_info": {
   "codemirror_mode": {
    "name": "ipython",
    "version": 3
   },
   "file_extension": ".py",
   "mimetype": "text/x-python",
   "name": "python",
   "nbconvert_exporter": "python",
   "pygments_lexer": "ipython3",
   "version": "3.12.1"
  }
 },
 "nbformat": 4,
 "nbformat_minor": 2
}
